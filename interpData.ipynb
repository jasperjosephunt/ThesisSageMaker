{
 "cells": [
  {
   "cell_type": "code",
   "execution_count": 1,
   "metadata": {},
   "outputs": [],
   "source": [
    "import pandas as pd\n",
    "import numpy as np\n",
    "from sklearn.preprocessing import scale\n",
    "import os\n",
    "\n",
    "import boto3\n",
    "from io import BytesIO\n",
    "import sagemaker.amazon.common as smac\n",
    "from sagemaker import get_execution_role"
   ]
  },
  {
   "cell_type": "code",
   "execution_count": 9,
   "metadata": {},
   "outputs": [],
   "source": [
    "'''\n",
    "-----------------------------------------------------------------------------\n",
    "--- Inptuts\n",
    "-----------------------------------------------------------------------------\n",
    "'''\n",
    "dataL = 4\n",
    "s3DataSetName = 'L6currentData.npz'\n",
    "DataName = 'dataScaledL{}'.format(dataL)\n",
    "interpDataName = 'interpDataScaledL{}.csv'.format(dataL)\n",
    "polarDataName = 'polarDataScaledL{}.csv'.format(dataL)\n",
    "polarInterpDataName = 'polarInterpDataScaledL{}.csv'.format(dataL)"
   ]
  },
  {
   "cell_type": "code",
   "execution_count": 10,
   "metadata": {},
   "outputs": [],
   "source": [
    "'''\n",
    "-----------------------------------------------------------------------------\n",
    "--- Definitions\n",
    "-----------------------------------------------------------------------------\n",
    "'''\n",
    "# Configuring S3\n",
    "s3_bucket_name = 'jasper-ml-sagemaker'\n",
    "role = get_execution_role()\n",
    "\n",
    "client = boto3.client('s3')\n",
    "resource = boto3.resource('s3')\n",
    "my_bucket = resource.Bucket(s3_bucket_name)\n",
    "\n",
    "def interpolateData(depth, current, interval):\n",
    "    \n",
    "    n = round((depth[-1] - depth[0] + interval) / interval)\n",
    "    x = np.linspace(depth[0], depth[-1], n)\n",
    "    yinterp = np.zeros((len(current), int(n)))\n",
    "    \n",
    "    for i in range(len(current)):\n",
    "        yinterp[i] = np.interp(x, depth, current[i])\n",
    "    \n",
    "    return yinterp\n",
    "\n",
    "\n",
    "def cartToPolar(current1, current2):\n",
    "    \"\"\"\n",
    "    Input:\n",
    "    Two orthogonal current profiles.\n",
    "    Output:\n",
    "    Single df; alternating magnitude & direction rows\n",
    "    \"\"\"\n",
    "    polarData = np.zeros((len(current1), 2*len(current1[0])))\n",
    "    \n",
    "    for i in range(len(current1[0])):\n",
    "        polarData[:,2*i] = (current1[:,i]**2 + current2[:,i]**2)**0.5\n",
    "        polarData[:,2*i+1] = np.arctan2(current1[:,i], current2[:,i])\n",
    "        \n",
    "    return polarData"
   ]
  },
  {
   "cell_type": "code",
   "execution_count": 20,
   "metadata": {},
   "outputs": [],
   "source": [
    "'''\n",
    "-----------------------------------------------------------------------------\n",
    "--- Importing Data\n",
    "-----------------------------------------------------------------------------\n",
    "'''\n",
    "dataLocation = 'Data/'\n",
    "dataKey = s3DataSetName\n",
    "obj = client.get_object(Bucket=s3_bucket_name, Key=dataLocation + dataKey)\n",
    "dataSet = np.load(BytesIO(obj['Body'].read()))\n",
    "\n",
    "EWcur = dataSet['U']\n",
    "NScur = dataSet['V']\n",
    "t = dataSet['t']\n",
    "depth = dataSet['depth']"
   ]
  },
  {
   "cell_type": "code",
   "execution_count": 27,
   "metadata": {},
   "outputs": [
    {
     "name": "stderr",
     "output_type": "stream",
     "text": [
      "/home/ec2-user/anaconda3/envs/python3/lib/python3.6/site-packages/ipykernel/__main__.py:17: DeprecationWarning: object of type <class 'numpy.float64'> cannot be safely interpreted as an integer.\n"
     ]
    }
   ],
   "source": [
    "'''\n",
    "-----------------------------------------------------------------------------\n",
    "--- Scaling & Interpolation\n",
    "-----------------------------------------------------------------------------\n",
    "'''\n",
    "# Scaling\n",
    "\n",
    "originalData = np.append(EWcur,NScur, axis=1)\n",
    "\n",
    "scaledData = scale(originalData)\n",
    "\n",
    "dataKey = DataName\n",
    "np.savetxt(dataKey, scaledData, delimiter=',')\n",
    "#my_bucket.upload_file(dataKey, Key=dataKey)\n",
    "#os.remove(dataKey)\n",
    "\n",
    "\n",
    "# Interpolating & Scaling\n",
    "EWinterp = interpolateData(depth,EWcur,10)\n",
    "NSinterp = interpolateData(depth,NScur,10)\n",
    "\n",
    "interpData = np.append(EWinterp,NSinterp, axis=1)\n",
    "\n",
    "scaledInterpData = scale(interpData)\n",
    "\n",
    "dataKey = interpDataName\n",
    "np.savetxt(dataKey, scaledInterpData, delimiter=',')\n",
    "#my_bucket.upload_file(dataKey, Key=dataKey)\n",
    "os.remove(dataKey)"
   ]
  },
  {
   "cell_type": "code",
   "execution_count": 53,
   "metadata": {},
   "outputs": [
    {
     "name": "stderr",
     "output_type": "stream",
     "text": [
      "/home/ec2-user/anaconda3/envs/python3/lib/python3.6/site-packages/ipykernel/__main__.py:17: DeprecationWarning: object of type <class 'numpy.float64'> cannot be safely interpreted as an integer.\n"
     ]
    }
   ],
   "source": [
    "'''\n",
    "-----------------------------------------------------------------------------\n",
    "--- Polar & Polar Interp\n",
    "-----------------------------------------------------------------------------\n",
    "'''\n",
    "# Polar Data\n",
    "polarData = cartToPolar(EWcur,NScur)\n",
    "\n",
    "scaledPolarData = scale(polarData)\n",
    "\n",
    "dataKey = polarDataName\n",
    "np.savetxt(dataKey, scaledPolarData, delimiter=',')\n",
    "my_bucket.upload_file(dataKey, Key=dataKey)\n",
    "os.remove(dataKey)\n",
    "\n",
    "# Polar Interped Data\n",
    "EWinterp = interpolateData(depth,EWcur,10)\n",
    "NSinterp = interpolateData(depth,NScur,10)\n",
    "\n",
    "polarInterpData = cartToPolar(EWinterp,NSinterp)\n",
    "\n",
    "scaledPolarInterpData = scale(polarData)\n",
    "\n",
    "dataKey = polarInterpDataName\n",
    "np.savetxt(dataKey, scaledPolarInterpData, delimiter=',')\n",
    "my_bucket.upload_file(dataKey, Key=dataKey)\n",
    "os.remove(dataKey)\n",
    "\n"
   ]
  },
  {
   "cell_type": "code",
   "execution_count": null,
   "metadata": {},
   "outputs": [],
   "source": []
  }
 ],
 "metadata": {
  "kernelspec": {
   "display_name": "conda_python3",
   "language": "python",
   "name": "conda_python3"
  },
  "language_info": {
   "codemirror_mode": {
    "name": "ipython",
    "version": 3
   },
   "file_extension": ".py",
   "mimetype": "text/x-python",
   "name": "python",
   "nbconvert_exporter": "python",
   "pygments_lexer": "ipython3",
   "version": "3.6.5"
  }
 },
 "nbformat": 4,
 "nbformat_minor": 4
}
