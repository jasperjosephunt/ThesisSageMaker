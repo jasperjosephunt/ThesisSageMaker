{
 "cells": [
  {
   "cell_type": "code",
   "execution_count": 50,
   "metadata": {},
   "outputs": [],
   "source": [
    "import os\n",
    "import pandas as pd\n",
    "import boto3\n",
    "from io import BytesIO\n",
    "import sagemaker.amazon.common as smac\n",
    "from sagemaker import get_execution_role\n",
    "import glob2"
   ]
  },
  {
   "cell_type": "code",
   "execution_count": 51,
   "metadata": {},
   "outputs": [],
   "source": [
    "'''\n",
    "-----------------------------------------------------------------------------\n",
    "--- Inptuts\n",
    "-----------------------------------------------------------------------------\n",
    "'''\n",
    "directory = os.getcwd() + '/Results'\n",
    "Interp = 'Interp'\n",
    "Analysis = 'PCA'\n",
    "Dimensions = 180\n"
   ]
  },
  {
   "cell_type": "code",
   "execution_count": 52,
   "metadata": {},
   "outputs": [],
   "source": [
    "'''\n",
    "-----------------------------------------------------------------------------\n",
    "--- Definitions\n",
    "-----------------------------------------------------------------------------\n",
    "'''\n",
    "Results = 'Results'\n",
    "resultsPath = '{}/{}/{}/{}/'.format(Results, Interp, Analysis, Dimensions)\n",
    "\n",
    "# Configuring S3\n",
    "s3_bucket_name = 'jasper-ml-sagemaker'\n",
    "role = get_execution_role()\n",
    "\n",
    "client = boto3.client('s3')\n",
    "resource = boto3.resource('s3')\n",
    "my_bucket = resource.Bucket(s3_bucket_name)"
   ]
  },
  {
   "cell_type": "code",
   "execution_count": 59,
   "metadata": {},
   "outputs": [],
   "source": [
    "'''\n",
    "-----------------------------------------------------------------------------\n",
    "--- Defining Files and Directory\n",
    "-----------------------------------------------------------------------------\n",
    "'''\n",
    "directories = [x for x in glob2.glob(directory+'/*')]\n",
    "files = [x[35:] for x in directories]"
   ]
  },
  {
   "cell_type": "code",
   "execution_count": 49,
   "metadata": {},
   "outputs": [],
   "source": [
    "for i in range(len(directories)):\n",
    "    my_bucket.upload_file(directories[i],Key=resultsPath + files[i])"
   ]
  },
  {
   "cell_type": "code",
   "execution_count": null,
   "metadata": {},
   "outputs": [],
   "source": []
  }
 ],
 "metadata": {
  "kernelspec": {
   "display_name": "conda_python3",
   "language": "python",
   "name": "conda_python3"
  },
  "language_info": {
   "codemirror_mode": {
    "name": "ipython",
    "version": 3
   },
   "file_extension": ".py",
   "mimetype": "text/x-python",
   "name": "python",
   "nbconvert_exporter": "python",
   "pygments_lexer": "ipython3",
   "version": "3.6.5"
  }
 },
 "nbformat": 4,
 "nbformat_minor": 4
}
