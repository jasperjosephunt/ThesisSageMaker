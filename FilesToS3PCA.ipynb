{
 "cells": [
  {
   "cell_type": "code",
   "execution_count": 1,
   "metadata": {},
   "outputs": [],
   "source": [
    "import os\n",
    "import pandas as pd\n",
    "import boto3\n",
    "from io import BytesIO\n",
    "import sagemaker.amazon.common as smac\n",
    "from sagemaker import get_execution_role\n",
    "import glob2"
   ]
  },
  {
   "cell_type": "code",
   "execution_count": 2,
   "metadata": {},
   "outputs": [],
   "source": [
    "'''\n",
    "-----------------------------------------------------------------------------\n",
    "--- Inptuts\n",
    "-----------------------------------------------------------------------------\n",
    "'''\n",
    "localDirectory = os.getcwd() + '/PCA_Results_NoInterptest'\n",
    "Interp = 'NoInterp'\n",
    "Analysis = 'PCA'\n"
   ]
  },
  {
   "cell_type": "code",
   "execution_count": 3,
   "metadata": {},
   "outputs": [],
   "source": [
    "'''\n",
    "-----------------------------------------------------------------------------\n",
    "--- Definitions\n",
    "-----------------------------------------------------------------------------\n",
    "'''\n",
    "Results = 'Results'\n",
    "\n",
    "# Configuring S3\n",
    "s3_bucket_name = 'jasper-ml-sagemaker'\n",
    "role = get_execution_role()\n",
    "\n",
    "client = boto3.client('s3')\n",
    "resource = boto3.resource('s3')\n",
    "my_bucket = resource.Bucket(s3_bucket_name)"
   ]
  },
  {
   "cell_type": "code",
   "execution_count": 13,
   "metadata": {},
   "outputs": [],
   "source": [
    "'''\n",
    "-----------------------------------------------------------------------------\n",
    "--- Defining Directories\n",
    "-----------------------------------------------------------------------------\n",
    "'''\n",
    "directories = [x for x in glob2.glob(localDirectory + '/*')]\n",
    "\n",
    "for directory in directories:\n",
    "    \n",
    "    filePaths = [x for x in glob2.glob(directory + '/*.csv')]\n",
    "    if len(directory) == 63:\n",
    "        files = [x[64:] for x in filePaths]\n",
    "    if len(directory) == 62:\n",
    "        files = [x[63:] for x in filePaths]\n",
    "    Dimensions = directory[53:-8]\n",
    "    \n",
    "    resultsPath = '{}/{}/{}/{}/'.format(Results, Interp, Analysis, Dimensions)\n",
    "    \n",
    "    for i in range(len(filePaths)):\n",
    "        my_bucket.upload_file(filePaths[i],Key=resultsPath + files[i])\n",
    "    "
   ]
  },
  {
   "cell_type": "code",
   "execution_count": null,
   "metadata": {},
   "outputs": [],
   "source": []
  }
 ],
 "metadata": {
  "kernelspec": {
   "display_name": "conda_python3",
   "language": "python",
   "name": "conda_python3"
  },
  "language_info": {
   "codemirror_mode": {
    "name": "ipython",
    "version": 3
   },
   "file_extension": ".py",
   "mimetype": "text/x-python",
   "name": "python",
   "nbconvert_exporter": "python",
   "pygments_lexer": "ipython3",
   "version": "3.6.5"
  }
 },
 "nbformat": 4,
 "nbformat_minor": 4
}
